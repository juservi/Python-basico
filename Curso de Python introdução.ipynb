{
 "cells": [
  {
   "cell_type": "markdown",
   "metadata": {},
   "source": [
    "Curso de Python básico\n",
    "Instalação\n",
    "Abrir https://www.python.org/downloads/ clicar em download python 3.8.0, a versão mais recente e instalar.\n",
    "Quando abrir o instalador ticar em \"add Python 3.8 to path\"\n",
    "Se surgir dúvida se o Windows é 32 ou 64 bits clicar com o botão direito do mouse em \"Meu Computador\" e checar. \n",
    "Abrir o cmd (prompt do DOS) e digitar \"python\" e enter para checar se o python foi instalado.\n",
    "Para instalar o Jupyter Notebook abrir o cmd e digitar pip3 install jupyter \n",
    "Para rodar uma linha do Jupyter Notebook usamos o botão \"run\" ou shift+enter\n"
   ]
  },
  {
   "cell_type": "markdown",
   "metadata": {},
   "source": [
    "Aula 1 - variáveis. Variável é um objeto que guarda na memória uma informação."
   ]
  },
  {
   "cell_type": "code",
   "execution_count": 13,
   "metadata": {},
   "outputs": [],
   "source": [
    "x = 1"
   ]
  },
  {
   "cell_type": "code",
   "execution_count": 14,
   "metadata": {},
   "outputs": [
    {
     "data": {
      "text/plain": [
       "1"
      ]
     },
     "execution_count": 14,
     "metadata": {},
     "output_type": "execute_result"
    }
   ],
   "source": [
    "x"
   ]
  },
  {
   "cell_type": "markdown",
   "metadata": {},
   "source": [
    "Como o nome diz variáveis variam. "
   ]
  },
  {
   "cell_type": "code",
   "execution_count": 15,
   "metadata": {},
   "outputs": [],
   "source": [
    "x=2"
   ]
  },
  {
   "cell_type": "code",
   "execution_count": 16,
   "metadata": {},
   "outputs": [
    {
     "data": {
      "text/plain": [
       "2"
      ]
     },
     "execution_count": 16,
     "metadata": {},
     "output_type": "execute_result"
    }
   ],
   "source": [
    "x"
   ]
  },
  {
   "cell_type": "markdown",
   "metadata": {},
   "source": [
    "Posso fazer operações matemáticas!!! + é adição, - é subtração, / divisão (float), // divisão inteira, % resto da divisão, * multiplicação, ** exponenciação"
   ]
  },
  {
   "cell_type": "code",
   "execution_count": 17,
   "metadata": {},
   "outputs": [],
   "source": [
    "x = 1\n",
    "y = 2"
   ]
  },
  {
   "cell_type": "code",
   "execution_count": 18,
   "metadata": {},
   "outputs": [
    {
     "data": {
      "text/plain": [
       "3"
      ]
     },
     "execution_count": 18,
     "metadata": {},
     "output_type": "execute_result"
    }
   ],
   "source": [
    "x+y"
   ]
  },
  {
   "cell_type": "code",
   "execution_count": 19,
   "metadata": {},
   "outputs": [
    {
     "data": {
      "text/plain": [
       "2"
      ]
     },
     "execution_count": 19,
     "metadata": {},
     "output_type": "execute_result"
    }
   ],
   "source": [
    "x*y"
   ]
  },
  {
   "cell_type": "code",
   "execution_count": 20,
   "metadata": {},
   "outputs": [
    {
     "data": {
      "text/plain": [
       "1"
      ]
     },
     "execution_count": 20,
     "metadata": {},
     "output_type": "execute_result"
    }
   ],
   "source": [
    "x**y"
   ]
  },
  {
   "cell_type": "code",
   "execution_count": 21,
   "metadata": {},
   "outputs": [
    {
     "data": {
      "text/plain": [
       "9"
      ]
     },
     "execution_count": 21,
     "metadata": {},
     "output_type": "execute_result"
    }
   ],
   "source": [
    "3**2"
   ]
  },
  {
   "cell_type": "code",
   "execution_count": 10,
   "metadata": {},
   "outputs": [
    {
     "data": {
      "text/plain": [
       "2.0"
      ]
     },
     "execution_count": 10,
     "metadata": {},
     "output_type": "execute_result"
    }
   ],
   "source": [
    "4/2"
   ]
  },
  {
   "cell_type": "code",
   "execution_count": 1,
   "metadata": {},
   "outputs": [
    {
     "data": {
      "text/plain": [
       "2"
      ]
     },
     "execution_count": 1,
     "metadata": {},
     "output_type": "execute_result"
    }
   ],
   "source": [
    "4//2"
   ]
  },
  {
   "cell_type": "code",
   "execution_count": 3,
   "metadata": {},
   "outputs": [
    {
     "data": {
      "text/plain": [
       "1.3333333333333333"
      ]
     },
     "execution_count": 3,
     "metadata": {},
     "output_type": "execute_result"
    }
   ],
   "source": [
    "4/3"
   ]
  },
  {
   "cell_type": "code",
   "execution_count": 4,
   "metadata": {},
   "outputs": [
    {
     "data": {
      "text/plain": [
       "1"
      ]
     },
     "execution_count": 4,
     "metadata": {},
     "output_type": "execute_result"
    }
   ],
   "source": [
    "4//3"
   ]
  },
  {
   "cell_type": "code",
   "execution_count": 10,
   "metadata": {},
   "outputs": [
    {
     "data": {
      "text/plain": [
       "2"
      ]
     },
     "execution_count": 10,
     "metadata": {},
     "output_type": "execute_result"
    }
   ],
   "source": [
    "26%4"
   ]
  },
  {
   "cell_type": "markdown",
   "metadata": {},
   "source": [
    "O módulo % que encontra o resto da divisão pode ser utilizado para verificar se um número é par, por exemplo"
   ]
  },
  {
   "cell_type": "code",
   "execution_count": 11,
   "metadata": {},
   "outputs": [
    {
     "data": {
      "text/plain": [
       "0"
      ]
     },
     "execution_count": 11,
     "metadata": {},
     "output_type": "execute_result"
    }
   ],
   "source": [
    "10%2"
   ]
  },
  {
   "cell_type": "markdown",
   "metadata": {},
   "source": [
    "O número pode ser inteiro ou um float (decimal)"
   ]
  },
  {
   "cell_type": "code",
   "execution_count": 24,
   "metadata": {},
   "outputs": [
    {
     "data": {
      "text/plain": [
       "1.5"
      ]
     },
     "execution_count": 24,
     "metadata": {},
     "output_type": "execute_result"
    }
   ],
   "source": [
    "3/2 #resultado é um float"
   ]
  },
  {
   "cell_type": "markdown",
   "metadata": {},
   "source": [
    "As variáveis também armazenam strings (textos) sempre entre aspas"
   ]
  },
  {
   "cell_type": "code",
   "execution_count": 25,
   "metadata": {},
   "outputs": [],
   "source": [
    "texto = \"Olá, mundo\""
   ]
  },
  {
   "cell_type": "code",
   "execution_count": 26,
   "metadata": {},
   "outputs": [
    {
     "data": {
      "text/plain": [
       "'Olá, mundo'"
      ]
     },
     "execution_count": 26,
     "metadata": {},
     "output_type": "execute_result"
    }
   ],
   "source": [
    "texto"
   ]
  },
  {
   "cell_type": "code",
   "execution_count": 27,
   "metadata": {},
   "outputs": [],
   "source": [
    "nome = \"Olá, meu nome é Juliana\""
   ]
  },
  {
   "cell_type": "code",
   "execution_count": 28,
   "metadata": {},
   "outputs": [
    {
     "data": {
      "text/plain": [
       "'Olá, meu nome é Juliana'"
      ]
     },
     "execution_count": 28,
     "metadata": {},
     "output_type": "execute_result"
    }
   ],
   "source": [
    "nome"
   ]
  },
  {
   "cell_type": "markdown",
   "metadata": {},
   "source": [
    "Se um número estiver entre aspas ele será uma string"
   ]
  },
  {
   "cell_type": "code",
   "execution_count": 29,
   "metadata": {},
   "outputs": [],
   "source": [
    "numero = \"109834\""
   ]
  },
  {
   "cell_type": "code",
   "execution_count": 30,
   "metadata": {},
   "outputs": [
    {
     "data": {
      "text/plain": [
       "'109834'"
      ]
     },
     "execution_count": 30,
     "metadata": {},
     "output_type": "execute_result"
    }
   ],
   "source": [
    "numero"
   ]
  },
  {
   "cell_type": "code",
   "execution_count": 31,
   "metadata": {},
   "outputs": [
    {
     "data": {
      "text/plain": [
       "str"
      ]
     },
     "execution_count": 31,
     "metadata": {},
     "output_type": "execute_result"
    }
   ],
   "source": [
    "type(numero)"
   ]
  },
  {
   "cell_type": "code",
   "execution_count": 32,
   "metadata": {},
   "outputs": [],
   "source": [
    "numero = 109834"
   ]
  },
  {
   "cell_type": "code",
   "execution_count": 33,
   "metadata": {},
   "outputs": [
    {
     "data": {
      "text/plain": [
       "int"
      ]
     },
     "execution_count": 33,
     "metadata": {},
     "output_type": "execute_result"
    }
   ],
   "source": [
    "type(numero)"
   ]
  },
  {
   "cell_type": "markdown",
   "metadata": {},
   "source": [
    "Podemos usar aspas simples ou duplas, tanto faz"
   ]
  },
  {
   "cell_type": "code",
   "execution_count": 34,
   "metadata": {},
   "outputs": [],
   "source": [
    "frase = \"aquele presidente dizem que é 'o cara' \""
   ]
  },
  {
   "cell_type": "code",
   "execution_count": 35,
   "metadata": {},
   "outputs": [
    {
     "data": {
      "text/plain": [
       "\"aquele presidente dizem que é 'o cara' \""
      ]
     },
     "execution_count": 35,
     "metadata": {},
     "output_type": "execute_result"
    }
   ],
   "source": [
    "frase"
   ]
  },
  {
   "cell_type": "code",
   "execution_count": 36,
   "metadata": {},
   "outputs": [
    {
     "ename": "SyntaxError",
     "evalue": "invalid syntax (<ipython-input-36-3ffc137df0c9>, line 1)",
     "output_type": "error",
     "traceback": [
      "\u001b[1;36m  File \u001b[1;32m\"<ipython-input-36-3ffc137df0c9>\"\u001b[1;36m, line \u001b[1;32m1\u001b[0m\n\u001b[1;33m    frase = aquele presidente dizem que é 'o cara'\u001b[0m\n\u001b[1;37m                            ^\u001b[0m\n\u001b[1;31mSyntaxError\u001b[0m\u001b[1;31m:\u001b[0m invalid syntax\n"
     ]
    }
   ],
   "source": [
    "frase = aquele presidente dizem que é 'o cara'"
   ]
  },
  {
   "cell_type": "markdown",
   "metadata": {},
   "source": [
    "sem aspas, vai dar erro"
   ]
  },
  {
   "cell_type": "markdown",
   "metadata": {},
   "source": [
    "Se nos operadores aritméticos o + é adição, na string é uma concatenação"
   ]
  },
  {
   "cell_type": "code",
   "execution_count": 39,
   "metadata": {},
   "outputs": [],
   "source": [
    "a = \"Não estou nem aí \"\n",
    "b = \"para tudo isso\""
   ]
  },
  {
   "cell_type": "code",
   "execution_count": 40,
   "metadata": {},
   "outputs": [
    {
     "data": {
      "text/plain": [
       "'Não estou nem aí para tudo isso'"
      ]
     },
     "execution_count": 40,
     "metadata": {},
     "output_type": "execute_result"
    }
   ],
   "source": [
    "a+b"
   ]
  },
  {
   "cell_type": "code",
   "execution_count": 41,
   "metadata": {},
   "outputs": [
    {
     "data": {
      "text/plain": [
       "'pão com ovo'"
      ]
     },
     "execution_count": 41,
     "metadata": {},
     "output_type": "execute_result"
    }
   ],
   "source": [
    "\"pão com \" + \"ovo\""
   ]
  },
  {
   "cell_type": "code",
   "execution_count": 43,
   "metadata": {},
   "outputs": [
    {
     "data": {
      "text/plain": [
       "'FRASE'"
      ]
     },
     "execution_count": 43,
     "metadata": {},
     "output_type": "execute_result"
    }
   ],
   "source": [
    "\"frase\".upper()"
   ]
  },
  {
   "cell_type": "markdown",
   "metadata": {},
   "source": [
    "se eu faço str.tab posso ver diversos métodos para transformar as strings"
   ]
  },
  {
   "cell_type": "code",
   "execution_count": 44,
   "metadata": {},
   "outputs": [
    {
     "data": {
      "text/plain": [
       "'Frase'"
      ]
     },
     "execution_count": 44,
     "metadata": {},
     "output_type": "execute_result"
    }
   ],
   "source": [
    "\"frase\".capitalize()"
   ]
  },
  {
   "cell_type": "code",
   "execution_count": 45,
   "metadata": {},
   "outputs": [],
   "source": [
    "frase = \"Os homens vão mudar o mundo\""
   ]
  },
  {
   "cell_type": "code",
   "execution_count": 49,
   "metadata": {},
   "outputs": [],
   "source": [
    "frase = frase.replace(\"Os homens\",\"As mulheres\")"
   ]
  },
  {
   "cell_type": "code",
   "execution_count": 50,
   "metadata": {},
   "outputs": [
    {
     "data": {
      "text/plain": [
       "'As mulheres vão mudar o mundo'"
      ]
     },
     "execution_count": 50,
     "metadata": {},
     "output_type": "execute_result"
    }
   ],
   "source": [
    "frase"
   ]
  },
  {
   "cell_type": "code",
   "execution_count": 52,
   "metadata": {},
   "outputs": [
    {
     "name": "stdout",
     "output_type": "stream",
     "text": [
      "Help on method_descriptor:\n",
      "\n",
      "count(...)\n",
      "    S.count(sub[, start[, end]]) -> int\n",
      "    \n",
      "    Return the number of non-overlapping occurrences of substring sub in\n",
      "    string S[start:end].  Optional arguments start and end are\n",
      "    interpreted as in slice notation.\n",
      "\n"
     ]
    }
   ],
   "source": [
    "help(str.count)"
   ]
  },
  {
   "cell_type": "markdown",
   "metadata": {},
   "source": [
    "E se eu não souber inglês para entender tudo que está sendo explicado aí? Há duas opções:\n",
    "Ou coloca no Google tradutor para ter uma ideia. Vai sair algo assim:\n",
    "\n",
    "Retorne o número de ocorrências não sobrepostas da subcadeia de substring em\n",
    "string S [início: fim]. Os argumentos opcionais início e fim são\n",
    "interpretado como na notação de fatia.\n",
    "\n",
    "Ou pode pesquisar no Google e ver um exemplo para entender como funciona \n",
    "https://www.geeksforgeeks.org/python-string-count/\n",
    "   "
   ]
  },
  {
   "cell_type": "code",
   "execution_count": 53,
   "metadata": {},
   "outputs": [],
   "source": [
    "frase = \"Ah o mar, o mar é lindo de se olhar\""
   ]
  },
  {
   "cell_type": "code",
   "execution_count": 54,
   "metadata": {},
   "outputs": [
    {
     "data": {
      "text/plain": [
       "2"
      ]
     },
     "execution_count": 54,
     "metadata": {},
     "output_type": "execute_result"
    }
   ],
   "source": [
    "frase.count(\"mar\")"
   ]
  },
  {
   "cell_type": "code",
   "execution_count": 55,
   "metadata": {},
   "outputs": [
    {
     "data": {
      "text/plain": [
       "True"
      ]
     },
     "execution_count": 55,
     "metadata": {},
     "output_type": "execute_result"
    }
   ],
   "source": [
    "frase.endswith(\"ar\") #frase termina com ar mesmo"
   ]
  },
  {
   "cell_type": "markdown",
   "metadata": {},
   "source": [
    "O que é esse True? Quer dizer que é verdadeiro que a frase termina com ar. Vamos mudar o parâmetro do método?"
   ]
  },
  {
   "cell_type": "code",
   "execution_count": 56,
   "metadata": {},
   "outputs": [
    {
     "data": {
      "text/plain": [
       "False"
      ]
     },
     "execution_count": 56,
     "metadata": {},
     "output_type": "execute_result"
    }
   ],
   "source": [
    "frase.endswith(\"bom\")"
   ]
  },
  {
   "cell_type": "code",
   "execution_count": 1,
   "metadata": {},
   "outputs": [
    {
     "name": "stdout",
     "output_type": "stream",
     "text": [
      "Help on method_descriptor:\n",
      "\n",
      "endswith(...)\n",
      "    S.endswith(suffix[, start[, end]]) -> bool\n",
      "    \n",
      "    Return True if S ends with the specified suffix, False otherwise.\n",
      "    With optional start, test S beginning at that position.\n",
      "    With optional end, stop comparing S at that position.\n",
      "    suffix can also be a tuple of strings to try.\n",
      "\n"
     ]
    }
   ],
   "source": [
    "help(str.endswith)"
   ]
  },
  {
   "cell_type": "markdown",
   "metadata": {},
   "source": [
    "Valores booleanos retornam verdadeiro ou falso"
   ]
  },
  {
   "cell_type": "code",
   "execution_count": 2,
   "metadata": {},
   "outputs": [
    {
     "data": {
      "text/plain": [
       "False"
      ]
     },
     "execution_count": 2,
     "metadata": {},
     "output_type": "execute_result"
    }
   ],
   "source": [
    "3<2"
   ]
  },
  {
   "cell_type": "code",
   "execution_count": 3,
   "metadata": {},
   "outputs": [
    {
     "data": {
      "text/plain": [
       "True"
      ]
     },
     "execution_count": 3,
     "metadata": {},
     "output_type": "execute_result"
    }
   ],
   "source": [
    "3>2"
   ]
  },
  {
   "cell_type": "code",
   "execution_count": 4,
   "metadata": {},
   "outputs": [
    {
     "data": {
      "text/plain": [
       "True"
      ]
     },
     "execution_count": 4,
     "metadata": {},
     "output_type": "execute_result"
    }
   ],
   "source": [
    "3>2 and 3>1"
   ]
  },
  {
   "cell_type": "markdown",
   "metadata": {},
   "source": [
    "operadores lógicos and, or e not;\n",
    "not veremos mais adiante"
   ]
  },
  {
   "cell_type": "code",
   "execution_count": 5,
   "metadata": {},
   "outputs": [
    {
     "data": {
      "text/plain": [
       "True"
      ]
     },
     "execution_count": 5,
     "metadata": {},
     "output_type": "execute_result"
    }
   ],
   "source": [
    "3>2 or 3<2"
   ]
  },
  {
   "cell_type": "markdown",
   "metadata": {},
   "source": [
    "Dados um número inteiro n > 0 e as notas finais de n alunos, determinar quantos alunos ficaram de recuperação. Um aluno está de recuperação se sua nota fina está entre 3.0 e 5.0 (exclusive) A nota máxima é 10.0."
   ]
  },
  {
   "cell_type": "code",
   "execution_count": 10,
   "metadata": {},
   "outputs": [],
   "source": [
    "n = 3.1"
   ]
  },
  {
   "cell_type": "code",
   "execution_count": 11,
   "metadata": {},
   "outputs": [
    {
     "data": {
      "text/plain": [
       "True"
      ]
     },
     "execution_count": 11,
     "metadata": {},
     "output_type": "execute_result"
    }
   ],
   "source": [
    "n > 3 and n<5"
   ]
  },
  {
   "cell_type": "code",
   "execution_count": 14,
   "metadata": {},
   "outputs": [],
   "source": [
    "x = True"
   ]
  },
  {
   "cell_type": "code",
   "execution_count": 15,
   "metadata": {},
   "outputs": [
    {
     "data": {
      "text/plain": [
       "True"
      ]
     },
     "execution_count": 15,
     "metadata": {},
     "output_type": "execute_result"
    }
   ],
   "source": [
    "x"
   ]
  },
  {
   "cell_type": "markdown",
   "metadata": {},
   "source": [
    "Expressões Lógicas! Expressões lógicas ou booleans são expressões cujo valor é verdadeiro (= True em Python) ou falso (= False em Python) e usam os operadores relacionais: == igual, != diferente, > maior, < menor, >= maior ou igual, <= menor ou igual, = atribui um valor a uma variável e o == compara"
   ]
  },
  {
   "cell_type": "code",
   "execution_count": 16,
   "metadata": {},
   "outputs": [],
   "source": [
    "x = 4\n",
    "y = 5"
   ]
  },
  {
   "cell_type": "code",
   "execution_count": 17,
   "metadata": {},
   "outputs": [
    {
     "data": {
      "text/plain": [
       "False"
      ]
     },
     "execution_count": 17,
     "metadata": {},
     "output_type": "execute_result"
    }
   ],
   "source": [
    "x == y"
   ]
  },
  {
   "cell_type": "code",
   "execution_count": 18,
   "metadata": {},
   "outputs": [
    {
     "data": {
      "text/plain": [
       "True"
      ]
     },
     "execution_count": 18,
     "metadata": {},
     "output_type": "execute_result"
    }
   ],
   "source": [
    "x!= y"
   ]
  },
  {
   "cell_type": "markdown",
   "metadata": {},
   "source": [
    "Lista\n",
    "É uma sequência ou coleção ordenada de valores. Seus valores podem ser acessados por índices. O índice começa sempre no zero.\n",
    "A lista é feita entre colchetes e pode contar números, strings ou até mesmo listas dentro de listas."
   ]
  },
  {
   "cell_type": "code",
   "execution_count": 66,
   "metadata": {},
   "outputs": [],
   "source": [
    "lista = [1,2,3,4,5,6,7,8,9]"
   ]
  },
  {
   "cell_type": "code",
   "execution_count": 67,
   "metadata": {},
   "outputs": [],
   "source": [
    "marcas = [\"Ford\",\"Chevrolet\",\"BMW\",\"Volkswagen\"]"
   ]
  },
  {
   "cell_type": "code",
   "execution_count": 68,
   "metadata": {},
   "outputs": [
    {
     "data": {
      "text/plain": [
       "1"
      ]
     },
     "execution_count": 68,
     "metadata": {},
     "output_type": "execute_result"
    }
   ],
   "source": [
    "lista[0]"
   ]
  },
  {
   "cell_type": "code",
   "execution_count": 69,
   "metadata": {},
   "outputs": [
    {
     "data": {
      "text/plain": [
       "'Ford'"
      ]
     },
     "execution_count": 69,
     "metadata": {},
     "output_type": "execute_result"
    }
   ],
   "source": [
    "marcas[0]"
   ]
  },
  {
   "cell_type": "markdown",
   "metadata": {},
   "source": [
    "Podemos selecionar partes da lista"
   ]
  },
  {
   "cell_type": "code",
   "execution_count": 70,
   "metadata": {},
   "outputs": [
    {
     "data": {
      "text/plain": [
       "['Ford', 'Chevrolet']"
      ]
     },
     "execution_count": 70,
     "metadata": {},
     "output_type": "execute_result"
    }
   ],
   "source": [
    "marcas[0:2]"
   ]
  },
  {
   "cell_type": "markdown",
   "metadata": {},
   "source": [
    "Note que foram capturados apenas os dois primeiros elementos da lista. Isso porque quando colocamos o índice 2 ele para no índice 1."
   ]
  },
  {
   "cell_type": "code",
   "execution_count": 71,
   "metadata": {},
   "outputs": [
    {
     "data": {
      "text/plain": [
       "['Ford', 'Chevrolet', 'BMW']"
      ]
     },
     "execution_count": 71,
     "metadata": {},
     "output_type": "execute_result"
    }
   ],
   "source": [
    "marcas[0:3]"
   ]
  },
  {
   "cell_type": "markdown",
   "metadata": {},
   "source": [
    "Agora pegou o índice 2"
   ]
  },
  {
   "cell_type": "markdown",
   "metadata": {},
   "source": [
    "Você pode reordenar essa lista ou inserir novos elementos. Vamos primeiro saber o tamanho da lista. Para isso, usamos len"
   ]
  },
  {
   "cell_type": "code",
   "execution_count": 72,
   "metadata": {},
   "outputs": [
    {
     "data": {
      "text/plain": [
       "4"
      ]
     },
     "execution_count": 72,
     "metadata": {},
     "output_type": "execute_result"
    }
   ],
   "source": [
    "len(marcas)"
   ]
  },
  {
   "cell_type": "markdown",
   "metadata": {},
   "source": [
    "Se a lista tem quatro elementos seus índices serão 0,1,2,3. Vamos alterar um elemento da lista?"
   ]
  },
  {
   "cell_type": "code",
   "execution_count": 73,
   "metadata": {},
   "outputs": [],
   "source": [
    "marcas[3] = \"Nissan\""
   ]
  },
  {
   "cell_type": "code",
   "execution_count": 74,
   "metadata": {},
   "outputs": [
    {
     "data": {
      "text/plain": [
       "['Ford', 'Chevrolet', 'BMW', 'Nissan']"
      ]
     },
     "execution_count": 74,
     "metadata": {},
     "output_type": "execute_result"
    }
   ],
   "source": [
    "marcas"
   ]
  },
  {
   "cell_type": "markdown",
   "metadata": {},
   "source": [
    "Para excluir elementos de uma lista existem três métodos: del, remove e pop.\n",
    "del remove usando o índice da lista\n",
    "remove vai remover o primeiro valor encontrado na lista\n",
    "pop remove um índice específico e o retorna"
   ]
  },
  {
   "cell_type": "code",
   "execution_count": 75,
   "metadata": {},
   "outputs": [],
   "source": [
    "del(marcas[0])"
   ]
  },
  {
   "cell_type": "code",
   "execution_count": 76,
   "metadata": {},
   "outputs": [
    {
     "data": {
      "text/plain": [
       "['Chevrolet', 'BMW', 'Nissan']"
      ]
     },
     "execution_count": 76,
     "metadata": {},
     "output_type": "execute_result"
    }
   ],
   "source": [
    "marcas"
   ]
  },
  {
   "cell_type": "code",
   "execution_count": 77,
   "metadata": {},
   "outputs": [],
   "source": [
    "marcas.remove(\"BMW\")"
   ]
  },
  {
   "cell_type": "code",
   "execution_count": 78,
   "metadata": {},
   "outputs": [
    {
     "data": {
      "text/plain": [
       "['Chevrolet', 'Nissan']"
      ]
     },
     "execution_count": 78,
     "metadata": {},
     "output_type": "execute_result"
    }
   ],
   "source": [
    "marcas"
   ]
  },
  {
   "cell_type": "code",
   "execution_count": 79,
   "metadata": {},
   "outputs": [
    {
     "data": {
      "text/plain": [
       "'Chevrolet'"
      ]
     },
     "execution_count": 79,
     "metadata": {},
     "output_type": "execute_result"
    }
   ],
   "source": [
    "marcas.pop(0) #o pop me mostrou qual elemento foi removido. Vamos ver como a lista ficou?"
   ]
  },
  {
   "cell_type": "code",
   "execution_count": 80,
   "metadata": {},
   "outputs": [
    {
     "data": {
      "text/plain": [
       "['Nissan']"
      ]
     },
     "execution_count": 80,
     "metadata": {},
     "output_type": "execute_result"
    }
   ],
   "source": [
    "marcas"
   ]
  },
  {
   "cell_type": "markdown",
   "metadata": {},
   "source": [
    "Para adicionar um novo elemento na lista, usamos a função append"
   ]
  },
  {
   "cell_type": "code",
   "execution_count": 81,
   "metadata": {},
   "outputs": [],
   "source": [
    "marcas.append(\"Ferrari\")"
   ]
  },
  {
   "cell_type": "code",
   "execution_count": 82,
   "metadata": {},
   "outputs": [
    {
     "data": {
      "text/plain": [
       "['Nissan', 'Ferrari']"
      ]
     },
     "execution_count": 82,
     "metadata": {},
     "output_type": "execute_result"
    }
   ],
   "source": [
    "marcas"
   ]
  },
  {
   "cell_type": "markdown",
   "metadata": {},
   "source": [
    "Podemos ter uma lista dentro de uma lista"
   ]
  },
  {
   "cell_type": "code",
   "execution_count": 83,
   "metadata": {},
   "outputs": [],
   "source": [
    "marcas.append([\"Honda\",\"Fiat\"])"
   ]
  },
  {
   "cell_type": "code",
   "execution_count": 84,
   "metadata": {},
   "outputs": [
    {
     "data": {
      "text/plain": [
       "['Nissan', 'Ferrari', ['Honda', 'Fiat']]"
      ]
     },
     "execution_count": 84,
     "metadata": {},
     "output_type": "execute_result"
    }
   ],
   "source": [
    "marcas"
   ]
  },
  {
   "cell_type": "markdown",
   "metadata": {},
   "source": [
    "Vamos acessar essa lista dentro da lista?"
   ]
  },
  {
   "cell_type": "code",
   "execution_count": 85,
   "metadata": {},
   "outputs": [
    {
     "data": {
      "text/plain": [
       "['Honda', 'Fiat']"
      ]
     },
     "execution_count": 85,
     "metadata": {},
     "output_type": "execute_result"
    }
   ],
   "source": [
    "marcas[2]"
   ]
  },
  {
   "cell_type": "markdown",
   "metadata": {},
   "source": [
    "Vamos acessar o elemento \"Honda\" dentro dessa lista?"
   ]
  },
  {
   "cell_type": "code",
   "execution_count": 86,
   "metadata": {},
   "outputs": [
    {
     "data": {
      "text/plain": [
       "'Honda'"
      ]
     },
     "execution_count": 86,
     "metadata": {},
     "output_type": "execute_result"
    }
   ],
   "source": [
    "marcas[2][0]"
   ]
  },
  {
   "cell_type": "markdown",
   "metadata": {},
   "source": [
    "Tupla é semelhante a uma lista, só que diferentemente da lista, tuplas são imutáveis. São feitas entre parênteses."
   ]
  },
  {
   "cell_type": "code",
   "execution_count": 87,
   "metadata": {},
   "outputs": [],
   "source": [
    "tupla = (\"arroz\",\"feijão\",\"batata\")"
   ]
  },
  {
   "cell_type": "code",
   "execution_count": 88,
   "metadata": {},
   "outputs": [
    {
     "data": {
      "text/plain": [
       "('arroz', 'feijão', 'batata')"
      ]
     },
     "execution_count": 88,
     "metadata": {},
     "output_type": "execute_result"
    }
   ],
   "source": [
    "tupla"
   ]
  },
  {
   "cell_type": "markdown",
   "metadata": {},
   "source": [
    "Lembram que a lista_02 era assim \n",
    "lista_02= [\"Ford\",\"Chevrolet\",\"BMW\",\"Volkswagen\"] e eu mudei o último elemento para \"Nissan\"?\n",
    "Na tupla não podemos fazer alterações."
   ]
  },
  {
   "cell_type": "code",
   "execution_count": 89,
   "metadata": {},
   "outputs": [
    {
     "data": {
      "text/plain": [
       "'feijão'"
      ]
     },
     "execution_count": 89,
     "metadata": {},
     "output_type": "execute_result"
    }
   ],
   "source": [
    "tupla[1]"
   ]
  },
  {
   "cell_type": "code",
   "execution_count": 90,
   "metadata": {},
   "outputs": [
    {
     "ename": "TypeError",
     "evalue": "'tuple' object does not support item assignment",
     "output_type": "error",
     "traceback": [
      "\u001b[1;31m---------------------------------------------------------------------------\u001b[0m",
      "\u001b[1;31mTypeError\u001b[0m                                 Traceback (most recent call last)",
      "\u001b[1;32m<ipython-input-90-bd2574fc8069>\u001b[0m in \u001b[0;36m<module>\u001b[1;34m\u001b[0m\n\u001b[1;32m----> 1\u001b[1;33m \u001b[0mtupla\u001b[0m\u001b[1;33m[\u001b[0m\u001b[1;36m1\u001b[0m\u001b[1;33m]\u001b[0m \u001b[1;33m=\u001b[0m \u001b[1;34m\"carne\"\u001b[0m\u001b[1;33m\u001b[0m\u001b[0m\n\u001b[0m",
      "\u001b[1;31mTypeError\u001b[0m: 'tuple' object does not support item assignment"
     ]
    }
   ],
   "source": [
    "tupla[1] = \"carne\""
   ]
  },
  {
   "cell_type": "markdown",
   "metadata": {},
   "source": [
    "Viram só? Deu erro!"
   ]
  },
  {
   "cell_type": "markdown",
   "metadata": {},
   "source": [
    "Dicionários\n",
    "O dicionário é uma das estruturas mais importantes no Python. É feita entre chaves e apresenta sempre uma relação chave valor.\n",
    "Vamos criar um dicionário de notas de alunos"
   ]
  },
  {
   "cell_type": "code",
   "execution_count": 91,
   "metadata": {},
   "outputs": [],
   "source": [
    "dicio = {\"Maria\":10,\"João\":8,\"Cristina\":9,\"Pedro\":5,\"Luis\":7}"
   ]
  },
  {
   "cell_type": "code",
   "execution_count": 92,
   "metadata": {},
   "outputs": [
    {
     "data": {
      "text/plain": [
       "{'Maria': 10, 'João': 8, 'Cristina': 9, 'Pedro': 5, 'Luis': 7}"
      ]
     },
     "execution_count": 92,
     "metadata": {},
     "output_type": "execute_result"
    }
   ],
   "source": [
    "dicio"
   ]
  },
  {
   "cell_type": "code",
   "execution_count": 59,
   "metadata": {},
   "outputs": [
    {
     "data": {
      "text/plain": [
       "5"
      ]
     },
     "execution_count": 59,
     "metadata": {},
     "output_type": "execute_result"
    }
   ],
   "source": [
    "len(dicio) #tem 5 pares chave-valor"
   ]
  },
  {
   "cell_type": "code",
   "execution_count": 61,
   "metadata": {},
   "outputs": [
    {
     "data": {
      "text/plain": [
       "10"
      ]
     },
     "execution_count": 61,
     "metadata": {},
     "output_type": "execute_result"
    }
   ],
   "source": [
    "dicio[\"Maria\"]"
   ]
  },
  {
   "cell_type": "markdown",
   "metadata": {},
   "source": [
    "Para adicionar um novo item chave-valor na lista não vamos usar o append igual na lista. Vamos fazer assim:"
   ]
  },
  {
   "cell_type": "code",
   "execution_count": 62,
   "metadata": {},
   "outputs": [],
   "source": [
    "dicio[\"Fernando\"] = 8"
   ]
  },
  {
   "cell_type": "code",
   "execution_count": 63,
   "metadata": {},
   "outputs": [
    {
     "data": {
      "text/plain": [
       "{'Maria': 10, 'João': 8, 'Cristina': 9, 'Pedro': 5, 'Luis': 7, 'Fernando': 8}"
      ]
     },
     "execution_count": 63,
     "metadata": {},
     "output_type": "execute_result"
    }
   ],
   "source": [
    "dicio"
   ]
  },
  {
   "cell_type": "markdown",
   "metadata": {},
   "source": [
    "Para remover um item do dicionário usamos o del"
   ]
  },
  {
   "cell_type": "code",
   "execution_count": 64,
   "metadata": {},
   "outputs": [],
   "source": [
    "del(dicio[\"Maria\"])"
   ]
  },
  {
   "cell_type": "code",
   "execution_count": 65,
   "metadata": {},
   "outputs": [
    {
     "data": {
      "text/plain": [
       "{'João': 8, 'Cristina': 9, 'Pedro': 5, 'Luis': 7, 'Fernando': 8}"
      ]
     },
     "execution_count": 65,
     "metadata": {},
     "output_type": "execute_result"
    }
   ],
   "source": [
    "dicio"
   ]
  },
  {
   "cell_type": "markdown",
   "metadata": {},
   "source": [
    "Muito bem! Passada essa etapa com operadores básicos, listas, tuplas e dicionários, vamos entrar em recursos que vão nos dar o poder de programar e entender um pouco a lógica de programação."
   ]
  },
  {
   "cell_type": "markdown",
   "metadata": {},
   "source": [
    "Vamos ver um pouco das funções de entrada (input) e output (saída)"
   ]
  },
  {
   "cell_type": "markdown",
   "metadata": {},
   "source": [
    "input - sabe quando vc preenche um formulário com nome, telefone, e-mail? Vc está fornecendo uma série de inputs"
   ]
  },
  {
   "cell_type": "code",
   "execution_count": 67,
   "metadata": {},
   "outputs": [
    {
     "name": "stdout",
     "output_type": "stream",
     "text": [
      "Digite seu nome: Juliana\n"
     ]
    }
   ],
   "source": [
    "nome = str(input(\"Digite seu nome: \"))"
   ]
  },
  {
   "cell_type": "markdown",
   "metadata": {},
   "source": [
    "Note que inseri str na frente do input para informar que o dado está no formato string"
   ]
  },
  {
   "cell_type": "code",
   "execution_count": 69,
   "metadata": {},
   "outputs": [
    {
     "name": "stdout",
     "output_type": "stream",
     "text": [
      "Digite o valor do litro do etanol na sua cidade: 2.999\n"
     ]
    }
   ],
   "source": [
    "valor = float(input(\"Digite o valor do litro do etanol na sua cidade: \"))"
   ]
  },
  {
   "cell_type": "markdown",
   "metadata": {},
   "source": [
    "O float é um número decimal, só que no Python a vírgula é substituida por ponto. No Python, a vírgula tem outras funções que serão aprendidas futuramente."
   ]
  },
  {
   "cell_type": "code",
   "execution_count": 70,
   "metadata": {},
   "outputs": [
    {
     "name": "stdout",
     "output_type": "stream",
     "text": [
      "Digite seu telefone: (19)88888888\n"
     ]
    }
   ],
   "source": [
    "telefone = str(input(\"Digite seu telefone: \"))"
   ]
  },
  {
   "cell_type": "code",
   "execution_count": 71,
   "metadata": {},
   "outputs": [
    {
     "data": {
      "text/plain": [
       "str"
      ]
     },
     "execution_count": 71,
     "metadata": {},
     "output_type": "execute_result"
    }
   ],
   "source": [
    "type(telefone)"
   ]
  },
  {
   "cell_type": "markdown",
   "metadata": {},
   "source": [
    "Se telefone é um número, por que ele está no input como uma string? O número de telefone normalmente vc não fará uma operação matemática com ele."
   ]
  },
  {
   "cell_type": "code",
   "execution_count": 72,
   "metadata": {},
   "outputs": [
    {
     "name": "stdout",
     "output_type": "stream",
     "text": [
      "Digite a nota de português: 9\n"
     ]
    }
   ],
   "source": [
    "nota_portugues = int(input(\"Digite a nota de português: \"))"
   ]
  },
  {
   "cell_type": "code",
   "execution_count": 73,
   "metadata": {},
   "outputs": [
    {
     "name": "stdout",
     "output_type": "stream",
     "text": [
      "Digite a nota de matemática: 6\n"
     ]
    }
   ],
   "source": [
    "nota_matematica = int(input(\"Digite a nota de matemática: \"))"
   ]
  },
  {
   "cell_type": "code",
   "execution_count": 74,
   "metadata": {},
   "outputs": [
    {
     "name": "stdout",
     "output_type": "stream",
     "text": [
      "Digite a nota de história: 8\n"
     ]
    }
   ],
   "source": [
    "nota_historia = int(input(\"Digite a nota de história: \"))"
   ]
  },
  {
   "cell_type": "code",
   "execution_count": 75,
   "metadata": {},
   "outputs": [],
   "source": [
    "media = (nota_portugues + nota_matematica + nota_historia)/3"
   ]
  },
  {
   "cell_type": "code",
   "execution_count": 76,
   "metadata": {},
   "outputs": [
    {
     "data": {
      "text/plain": [
       "7.666666666666667"
      ]
     },
     "execution_count": 76,
     "metadata": {},
     "output_type": "execute_result"
    }
   ],
   "source": [
    "media"
   ]
  },
  {
   "cell_type": "markdown",
   "metadata": {},
   "source": [
    "Mas apresentar a média assim não passa a informação completa. Para isso vamos usar a função de saída (output) print (imprimir)"
   ]
  },
  {
   "cell_type": "code",
   "execution_count": 77,
   "metadata": {},
   "outputs": [
    {
     "name": "stdout",
     "output_type": "stream",
     "text": [
      "A média do aluno foi de 7.666666666666667\n"
     ]
    }
   ],
   "source": [
    "print(\"A média do aluno foi de\", media) # a string acompanhada da variável media que contem a informação"
   ]
  },
  {
   "cell_type": "code",
   "execution_count": 79,
   "metadata": {},
   "outputs": [
    {
     "name": "stdout",
     "output_type": "stream",
     "text": [
      "A média do aluno foi de 7.67\n"
     ]
    }
   ],
   "source": [
    "print(\"A média do aluno foi de %.2f\" % media)"
   ]
  },
  {
   "cell_type": "markdown",
   "metadata": {},
   "source": [
    "O %.2f representa duas casas após a vírgula. Para relacionar com a média usamos o % como no no exemplo acima. "
   ]
  },
  {
   "cell_type": "markdown",
   "metadata": {},
   "source": [
    "Também podemos usar o format (f') para imprimir o resultado"
   ]
  },
  {
   "cell_type": "code",
   "execution_count": 85,
   "metadata": {},
   "outputs": [
    {
     "name": "stdout",
     "output_type": "stream",
     "text": [
      "A média do aluno foi de 7.67\n"
     ]
    }
   ],
   "source": [
    "print(f\"A média do aluno foi de {media:.2f}\")"
   ]
  },
  {
   "cell_type": "code",
   "execution_count": 86,
   "metadata": {},
   "outputs": [],
   "source": [
    "aluno = \"João\""
   ]
  },
  {
   "cell_type": "code",
   "execution_count": 87,
   "metadata": {},
   "outputs": [
    {
     "name": "stdout",
     "output_type": "stream",
     "text": [
      "A média de João foi de 7.67\n"
     ]
    }
   ],
   "source": [
    "print(f\"A média de {aluno} foi de {media:.2f}\")"
   ]
  },
  {
   "cell_type": "markdown",
   "metadata": {},
   "source": [
    "Vamos usar a média da nota do João para aprender os comandos if/else, que são muito úteis nos nossos programas.\n",
    "if em inglês é \"se\". Se o resultado atender a uma determinada condição, faça isso. Se não atender. faça aquilo (else).\n",
    "Na linha 15 estão as Expressões Lógicas para vc relembrar\n"
   ]
  },
  {
   "cell_type": "code",
   "execution_count": 88,
   "metadata": {},
   "outputs": [
    {
     "name": "stdout",
     "output_type": "stream",
     "text": [
      "O(a) aluno(a) foi aprovado(a)\n"
     ]
    }
   ],
   "source": [
    "if media >= 6:\n",
    "    print(\"O(a) aluno(a) foi aprovado(a)\")\n",
    "else:\n",
    "    print(\"O(a) aluno(a) foi reprovado(a)\")"
   ]
  },
  {
   "cell_type": "markdown",
   "metadata": {},
   "source": [
    "Vamos fazer um programa sobre multas de trânsito?"
   ]
  },
  {
   "cell_type": "code",
   "execution_count": 9,
   "metadata": {},
   "outputs": [
    {
     "name": "stdout",
     "output_type": "stream",
     "text": [
      "Digite a velocidade do veículo: 100\n"
     ]
    }
   ],
   "source": [
    "velocidade = float(input(\"Digite a velocidade do veículo: \"))"
   ]
  },
  {
   "cell_type": "code",
   "execution_count": 8,
   "metadata": {},
   "outputs": [
    {
     "name": "stdout",
     "output_type": "stream",
     "text": [
      "Multa de 200 reais e 10 pontos na carteira\n"
     ]
    }
   ],
   "source": [
    "if velocidade >= 60 and velocidade <= 80:\n",
    "    print(\"Multa de 100 reais e 5 pontos na carteira\")\n",
    "if velocidade > 80:\n",
    "    print(\"Multa de 200 reais e 10 pontos na carteira\")\n",
    "if velocidade < 60:\n",
    "    print(\"O veículo não foi multado\")"
   ]
  },
  {
   "cell_type": "code",
   "execution_count": 10,
   "metadata": {},
   "outputs": [
    {
     "name": "stdout",
     "output_type": "stream",
     "text": [
      "Multa de 200 reais e 10 pontos na carteira\n"
     ]
    }
   ],
   "source": [
    "if velocidade >= 60 and velocidade <= 80:\n",
    "    print(\"Multa de 100 reais e 5 pontos na carteira\")\n",
    "elif velocidade > 80:\n",
    "    print(\"Multa de 200 reais e 10 pontos na carteira\")\n",
    "else:\n",
    "    print(\"O veículo não foi multado\")"
   ]
  },
  {
   "cell_type": "markdown",
   "metadata": {},
   "source": [
    "No primeiro exemplo eu mostrei todas as condições. No segundo exemplo usei o elif para colocar uma segunda condição e no else se o meu input estiver fora da primeira e da segunda condição cairá no else. "
   ]
  },
  {
   "cell_type": "markdown",
   "metadata": {},
   "source": [
    "Vcs notaram no exemplo acima que eu coloquei dois pontos no final do if e na linha de baixo o print deu um espaço? O Python trabalha com a identação. Esse espaço no print representa um bloco de comandos e isso vai nos ajudar a entender um pouco sobre a lógica de programação. Vamos usar um exemplo!"
   ]
  },
  {
   "cell_type": "code",
   "execution_count": 11,
   "metadata": {},
   "outputs": [],
   "source": [
    "nota = 10"
   ]
  },
  {
   "cell_type": "code",
   "execution_count": 12,
   "metadata": {},
   "outputs": [
    {
     "name": "stdout",
     "output_type": "stream",
     "text": [
      "Tirei nota máxima\n",
      "20\n",
      "100\n",
      "A minha nota foi 10\n"
     ]
    }
   ],
   "source": [
    "if nota == 10:\n",
    "    print(\"Tirei nota máxima\")\n",
    "    print(nota + nota)\n",
    "    print(nota**2)\n",
    "    print(\"A minha nota foi\", nota)"
   ]
  },
  {
   "cell_type": "markdown",
   "metadata": {},
   "source": [
    "Tudo que estava com o espaço (é um tab) foi executado dentro do if linha por linha. É assim que os programas trabalham, linha por linha."
   ]
  },
  {
   "cell_type": "code",
   "execution_count": 13,
   "metadata": {},
   "outputs": [
    {
     "name": "stdout",
     "output_type": "stream",
     "text": [
      "Tirei nota máxima\n",
      "20\n",
      "100\n",
      "A minha nota foi 10\n",
      "Entenderam a lógica da programação?\n",
      "4\n",
      "9\n"
     ]
    }
   ],
   "source": [
    "if nota == 10:\n",
    "    print(\"Tirei nota máxima\")\n",
    "    print(nota + nota)\n",
    "    print(nota**2)\n",
    "    print(\"A minha nota foi\", nota)\n",
    "    \n",
    "print(\"Entenderam a lógica da programação?\")\n",
    "print(2+2)\n",
    "print(3**2)"
   ]
  },
  {
   "cell_type": "markdown",
   "metadata": {},
   "source": [
    "O programa executou o bloco do if linha por linha. Quando chegou no print(\"A minha nota foi\", nota) encerrou a execução do bloco e foi para as linhas de baixo executar o restante."
   ]
  },
  {
   "cell_type": "code",
   "execution_count": 15,
   "metadata": {},
   "outputs": [
    {
     "name": "stdout",
     "output_type": "stream",
     "text": [
      "Tirei nota máxima\n",
      "20\n",
      "100\n",
      "A minha nota foi 10\n",
      "Entenderam a lógica da programação?\n",
      "4\n",
      "9\n"
     ]
    }
   ],
   "source": [
    "# bloco 1\n",
    "if nota == 10:\n",
    "    print(\"Tirei nota máxima\")\n",
    "    print(nota + nota)\n",
    "    print(nota**2)\n",
    "    print(\"A minha nota foi\", nota)\n",
    "\n",
    "#bloco 2\n",
    "\n",
    "if nota != 10:\n",
    "    print(\"Que resultado ruim\")\n",
    "    print(\"Estudei tanto para isso\")\n",
    "    print(\"Talvez minha nota tenha sido 11\")\n",
    "\n",
    "    \n",
    "print(\"Entenderam a lógica da programação?\")\n",
    "print(2+2)\n",
    "print(3**2)"
   ]
  },
  {
   "cell_type": "markdown",
   "metadata": {},
   "source": [
    "O bloco 1 atendeu a condição e todas as linhas foram executadas. Já o bloco 2 não atendeu a condição e nenhuma linha foi executada. Como o programa executa linha por linha ele escapa do bloco 2 e vai executar o restante das linhas, que está foram dos dois blocos."
   ]
  },
  {
   "cell_type": "code",
   "execution_count": 16,
   "metadata": {},
   "outputs": [],
   "source": [
    "nota = 8"
   ]
  },
  {
   "cell_type": "code",
   "execution_count": 17,
   "metadata": {},
   "outputs": [
    {
     "name": "stdout",
     "output_type": "stream",
     "text": [
      "Que resultado ruim\n",
      "Estudei tanto para isso\n",
      "Talvez minha nota tenha sido 11\n",
      "Entenderam a lógica da programação?\n",
      "4\n",
      "9\n"
     ]
    }
   ],
   "source": [
    "# bloco 1\n",
    "if nota == 10:\n",
    "    print(\"Tirei nota máxima\")\n",
    "    print(nota + nota)\n",
    "    print(nota**2)\n",
    "    print(\"A minha nota foi\", nota)\n",
    "\n",
    "#bloco 2\n",
    "\n",
    "if nota != 10:\n",
    "    print(\"Que resultado ruim\")\n",
    "    print(\"Estudei tanto para isso\")\n",
    "    print(\"Talvez minha nota tenha sido 11\")\n",
    "\n",
    "    \n",
    "print(\"Entenderam a lógica da programação?\")\n",
    "print(2+2)\n",
    "print(3**2)"
   ]
  },
  {
   "cell_type": "markdown",
   "metadata": {},
   "source": [
    "Agora ele deixou pra lá o bloco 1 e rodou todo o bloco 2 porque atendeu à condição exigida, de que a nota fosse não igual a 10."
   ]
  },
  {
   "cell_type": "markdown",
   "metadata": {},
   "source": [
    "Vamos ver exemplos práticos de listas e dicionários com alguns comandos novos. Vamos supor que há uma lista de espera de pacientes em uma clínica que esperam um encaixe para a semana. Abaixo está a lista de pacientes na lista de espera. Vc é a Roberta Freitas e quer saber se o funcionário realmente colocou seu nome na lista de espera. "
   ]
  },
  {
   "cell_type": "code",
   "execution_count": 1,
   "metadata": {},
   "outputs": [],
   "source": [
    "pacientes = [\"João da Silva\",\"Alberto Santos\",\"Maria Lima\",\"Ronaldo Almeida\",\"Carlos Alves\",\"Roberta Freitas\"]"
   ]
  },
  {
   "cell_type": "code",
   "execution_count": 23,
   "metadata": {},
   "outputs": [
    {
     "data": {
      "text/plain": [
       "True"
      ]
     },
     "execution_count": 23,
     "metadata": {},
     "output_type": "execute_result"
    }
   ],
   "source": [
    "\"Roberta Freitas\" in pacientes"
   ]
  },
  {
   "cell_type": "code",
   "execution_count": 93,
   "metadata": {},
   "outputs": [
    {
     "data": {
      "text/plain": [
       "True"
      ]
     },
     "execution_count": 93,
     "metadata": {},
     "output_type": "execute_result"
    }
   ],
   "source": [
    "\"José Carlos\" not in pacientes"
   ]
  },
  {
   "cell_type": "markdown",
   "metadata": {},
   "source": [
    "Assim nos ajuda, mas queremos uma interface mais agradável"
   ]
  },
  {
   "cell_type": "code",
   "execution_count": 25,
   "metadata": {},
   "outputs": [
    {
     "name": "stdout",
     "output_type": "stream",
     "text": [
      "Roberta Freitas está na lista\n"
     ]
    }
   ],
   "source": [
    "for x in pacientes:\n",
    "    if x == \"Roberta Freitas\":\n",
    "        print(x, \"está na lista\")"
   ]
  },
  {
   "cell_type": "markdown",
   "metadata": {},
   "source": [
    "O que houve aqui? A variável x percorre a lista e vai assumindo o valor de cada elemento. Quando encontrou a Roberta Freitas bateu! \n",
    "x = João da Silva, mas não é ele que procuramos. O x vai para o próximo.\n",
    "x = Alberto Santos, mas ainda não é quem ele procura e assim vai. Vamos colocar um nome inexistente?"
   ]
  },
  {
   "cell_type": "code",
   "execution_count": 29,
   "metadata": {},
   "outputs": [
    {
     "name": "stdout",
     "output_type": "stream",
     "text": [
      "Digite seu nome: Juliana Magalhães\n"
     ]
    }
   ],
   "source": [
    "nome = str(input(\"Digite seu nome: \"))"
   ]
  },
  {
   "cell_type": "markdown",
   "metadata": {},
   "source": [
    "O programa não vai retornar nada"
   ]
  },
  {
   "cell_type": "code",
   "execution_count": 32,
   "metadata": {},
   "outputs": [
    {
     "name": "stdout",
     "output_type": "stream",
     "text": [
      "Juliana Magalhães não consta na lista\n"
     ]
    }
   ],
   "source": [
    "if nome in pacientes:\n",
    "    print(nome, \"consta na lista\")\n",
    "else:\n",
    "    print(nome, \"não consta na lista\")"
   ]
  },
  {
   "cell_type": "code",
   "execution_count": 33,
   "metadata": {},
   "outputs": [
    {
     "name": "stdout",
     "output_type": "stream",
     "text": [
      "Digite seu nome: Maria Lima\n"
     ]
    }
   ],
   "source": [
    "nome = str(input(\"Digite seu nome: \"))"
   ]
  },
  {
   "cell_type": "code",
   "execution_count": 34,
   "metadata": {},
   "outputs": [
    {
     "name": "stdout",
     "output_type": "stream",
     "text": [
      "Maria Lima consta na lista\n"
     ]
    }
   ],
   "source": [
    "if nome in pacientes:\n",
    "    print(nome, \"consta na lista\")\n",
    "else:\n",
    "    print(nome, \"não consta na lista\")"
   ]
  },
  {
   "cell_type": "code",
   "execution_count": 1,
   "metadata": {},
   "outputs": [
    {
     "name": "stdout",
     "output_type": "stream",
     "text": [
      "Digite seu nome: Maria\n"
     ]
    }
   ],
   "source": [
    "nome = str(input(\"Digite seu nome: \"))"
   ]
  },
  {
   "cell_type": "code",
   "execution_count": 4,
   "metadata": {},
   "outputs": [
    {
     "name": "stdout",
     "output_type": "stream",
     "text": [
      "Maria não consta na lista\n"
     ]
    }
   ],
   "source": [
    "if nome in pacientes:\n",
    "    print(nome, \"consta na lista\")\n",
    "else:\n",
    "    print(nome, \"não consta na lista\")"
   ]
  },
  {
   "cell_type": "markdown",
   "metadata": {},
   "source": [
    "Maria está na lista de pacientes, mas por que o programa anterior mostrou que não estava na lista? Porque a string tem que estar exatamente igual à forma como está na lista (\"Maria Lima\"). Pode acontecer da pessoa anotar o nome errado e não bater exatamente com o informado. O que fazer? Vamos percorrer a lista com o \"for\" e ver se dentro do x aparece alguma Maria.  "
   ]
  },
  {
   "cell_type": "code",
   "execution_count": 2,
   "metadata": {},
   "outputs": [
    {
     "name": "stdout",
     "output_type": "stream",
     "text": [
      "Maria Lima\n"
     ]
    }
   ],
   "source": [
    "for x in pacientes:\n",
    "    if \"Maria\" in x:\n",
    "        print(x)"
   ]
  },
  {
   "cell_type": "markdown",
   "metadata": {},
   "source": [
    "Vamos relembrar como está nossa lista de espera dos pacientes. O João da Silva é o primeiro da lista e acaba de ser chamado. Vamos usar o método pop que remove o elemento da lista e nos retorna o valor para sabermos quem é."
   ]
  },
  {
   "cell_type": "code",
   "execution_count": 3,
   "metadata": {},
   "outputs": [],
   "source": [
    "pacientes = [\"João da Silva\",\"Alberto Santos\",\"Maria Lima\",\"Ronaldo Almeida\",\"Carlos Alves\",\"Roberta Freitas\"]"
   ]
  },
  {
   "cell_type": "code",
   "execution_count": 4,
   "metadata": {},
   "outputs": [
    {
     "data": {
      "text/plain": [
       "'João da Silva'"
      ]
     },
     "execution_count": 4,
     "metadata": {},
     "output_type": "execute_result"
    }
   ],
   "source": [
    "pacientes.pop(0) #lembre-se: posição zero é a primeira da lista"
   ]
  },
  {
   "cell_type": "code",
   "execution_count": 5,
   "metadata": {},
   "outputs": [
    {
     "data": {
      "text/plain": [
       "['Alberto Santos',\n",
       " 'Maria Lima',\n",
       " 'Ronaldo Almeida',\n",
       " 'Carlos Alves',\n",
       " 'Roberta Freitas']"
      ]
     },
     "execution_count": 5,
     "metadata": {},
     "output_type": "execute_result"
    }
   ],
   "source": [
    "pacientes"
   ]
  },
  {
   "cell_type": "markdown",
   "metadata": {},
   "source": [
    "E se o Carlos Alves ligar e quiser saber quantos pacientes estão na frente dele na lista de espera?"
   ]
  },
  {
   "cell_type": "code",
   "execution_count": 6,
   "metadata": {},
   "outputs": [
    {
     "data": {
      "text/plain": [
       "3"
      ]
     },
     "execution_count": 6,
     "metadata": {},
     "output_type": "execute_result"
    }
   ],
   "source": [
    "pacientes.index(\"Carlos Alves\")"
   ]
  },
  {
   "cell_type": "markdown",
   "metadata": {},
   "source": [
    "Lembre-se que o João da Silva já foi chamado, sendo assim há três pacientes na frente do Carlos Alves "
   ]
  },
  {
   "cell_type": "markdown",
   "metadata": {},
   "source": [
    "Vamos trabalhar agora com dicionários e como exemplo usaremos um estoque de supermercado e seus preços"
   ]
  },
  {
   "cell_type": "code",
   "execution_count": 7,
   "metadata": {},
   "outputs": [],
   "source": [
    "produtos = {\"refrigerante\":8, \"Arroz\": 5.50, \"Óleo\": 6, \"Açúcar\": 4, \"Chocolate\":9.99,\"Ração de cachorro\": 35}"
   ]
  },
  {
   "cell_type": "markdown",
   "metadata": {},
   "source": [
    "Quantos itens há no dicionário?"
   ]
  },
  {
   "cell_type": "code",
   "execution_count": 11,
   "metadata": {},
   "outputs": [
    {
     "data": {
      "text/plain": [
       "6"
      ]
     },
     "execution_count": 11,
     "metadata": {},
     "output_type": "execute_result"
    }
   ],
   "source": [
    "len(produtos)"
   ]
  },
  {
   "cell_type": "code",
   "execution_count": 12,
   "metadata": {},
   "outputs": [
    {
     "data": {
      "text/plain": [
       "8"
      ]
     },
     "execution_count": 12,
     "metadata": {},
     "output_type": "execute_result"
    }
   ],
   "source": [
    "produtos[\"refrigerante\"]"
   ]
  },
  {
   "cell_type": "markdown",
   "metadata": {},
   "source": [
    "Acessamos a chave \"refrigerante\" que retornou o valor, no caso o preço que é de 8 reais"
   ]
  },
  {
   "cell_type": "markdown",
   "metadata": {},
   "source": [
    "Temos outro dicionário com novos produtos e precisamos juntar os dois dicionários. Para mesclar, usamos update"
   ]
  },
  {
   "cell_type": "code",
   "execution_count": 15,
   "metadata": {},
   "outputs": [],
   "source": [
    "produtos_02 = {\"Manteiga\": 12, \"Leite\":2.49, \"Pão integral\":12, \"Suco\": 8.50 }"
   ]
  },
  {
   "cell_type": "code",
   "execution_count": 19,
   "metadata": {},
   "outputs": [],
   "source": [
    "produtos.update(produtos_02)"
   ]
  },
  {
   "cell_type": "code",
   "execution_count": 20,
   "metadata": {},
   "outputs": [
    {
     "data": {
      "text/plain": [
       "{'refrigerante': 8,\n",
       " 'Arroz': 5.5,\n",
       " 'Óleo': 6,\n",
       " 'Açúcar': 4,\n",
       " 'Chocolate': 9.99,\n",
       " 'Ração de cachorro': 35,\n",
       " 'Manteiga': 12,\n",
       " 'Leite': 2.49,\n",
       " 'Pão integral': 12,\n",
       " 'Suco': 8.5}"
      ]
     },
     "execution_count": 20,
     "metadata": {},
     "output_type": "execute_result"
    }
   ],
   "source": [
    "produtos"
   ]
  },
  {
   "cell_type": "markdown",
   "metadata": {},
   "source": [
    "Para saber só os produtos do supermercado, sem o preço, vamos usar o método keys que nos retorna apenas as chaves do dicionário"
   ]
  },
  {
   "cell_type": "code",
   "execution_count": 21,
   "metadata": {},
   "outputs": [
    {
     "data": {
      "text/plain": [
       "dict_keys(['refrigerante', 'Arroz', 'Óleo', 'Açúcar', 'Chocolate', 'Ração de cachorro', 'Manteiga', 'Leite', 'Pão integral', 'Suco'])"
      ]
     },
     "execution_count": 21,
     "metadata": {},
     "output_type": "execute_result"
    }
   ],
   "source": [
    "produtos.keys()"
   ]
  },
  {
   "cell_type": "markdown",
   "metadata": {},
   "source": [
    "Para retornar apenas os valores, o método é values"
   ]
  },
  {
   "cell_type": "code",
   "execution_count": 22,
   "metadata": {},
   "outputs": [
    {
     "data": {
      "text/plain": [
       "dict_values([8, 5.5, 6, 4, 9.99, 35, 12, 2.49, 12, 8.5])"
      ]
     },
     "execution_count": 22,
     "metadata": {},
     "output_type": "execute_result"
    }
   ],
   "source": [
    "produtos.values()"
   ]
  },
  {
   "cell_type": "code",
   "execution_count": 23,
   "metadata": {},
   "outputs": [],
   "source": [
    "del produtos[\"Arroz\"]"
   ]
  },
  {
   "cell_type": "code",
   "execution_count": 24,
   "metadata": {},
   "outputs": [
    {
     "data": {
      "text/plain": [
       "{'refrigerante': 8,\n",
       " 'Óleo': 6,\n",
       " 'Açúcar': 4,\n",
       " 'Chocolate': 9.99,\n",
       " 'Ração de cachorro': 35,\n",
       " 'Manteiga': 12,\n",
       " 'Leite': 2.49,\n",
       " 'Pão integral': 12,\n",
       " 'Suco': 8.5}"
      ]
     },
     "execution_count": 24,
     "metadata": {},
     "output_type": "execute_result"
    }
   ],
   "source": [
    "produtos"
   ]
  },
  {
   "cell_type": "markdown",
   "metadata": {},
   "source": [
    "Arroz caiu fora do dicionário"
   ]
  },
  {
   "cell_type": "markdown",
   "metadata": {},
   "source": [
    "Como adicionar um novo item no dicionário?"
   ]
  },
  {
   "cell_type": "code",
   "execution_count": 25,
   "metadata": {},
   "outputs": [],
   "source": [
    "produtos[\"Frango congelado\"] = 20.99"
   ]
  },
  {
   "cell_type": "code",
   "execution_count": 26,
   "metadata": {},
   "outputs": [
    {
     "data": {
      "text/plain": [
       "{'refrigerante': 8,\n",
       " 'Óleo': 6,\n",
       " 'Açúcar': 4,\n",
       " 'Chocolate': 9.99,\n",
       " 'Ração de cachorro': 35,\n",
       " 'Manteiga': 12,\n",
       " 'Leite': 2.49,\n",
       " 'Pão integral': 12,\n",
       " 'Suco': 8.5,\n",
       " 'Frango congelado': 20.99}"
      ]
     },
     "execution_count": 26,
     "metadata": {},
     "output_type": "execute_result"
    }
   ],
   "source": [
    "produtos"
   ]
  },
  {
   "cell_type": "markdown",
   "metadata": {},
   "source": [
    "Podemos ter listas dentro de um dicionário. Veja esse exemplo:"
   ]
  },
  {
   "cell_type": "code",
   "execution_count": 28,
   "metadata": {},
   "outputs": [],
   "source": [
    "estoque = {'refrigerante': [100,8], 'Óleo': [50,6], 'Açúcar': [80,4], 'Chocolate': [30, 9.99], 'Ração de cachorro': [70, 35], \n",
    "           'Manteiga': [30,12], 'Leite': [100,2.49], 'Pão integral':[10,12], 'Suco': [15,8.5], 'Frango congelado':[60,20.99]}"
   ]
  },
  {
   "cell_type": "markdown",
   "metadata": {},
   "source": [
    "Aqui temos a quantidade do produto em estoque e seu preço. Vamos descobrir quantas unidades de Suco há no estoque e seu preço unitário?"
   ]
  },
  {
   "cell_type": "code",
   "execution_count": 29,
   "metadata": {},
   "outputs": [
    {
     "data": {
      "text/plain": [
       "[15, 8.5]"
      ]
     },
     "execution_count": 29,
     "metadata": {},
     "output_type": "execute_result"
    }
   ],
   "source": [
    "estoque[\"Suco\"]"
   ]
  },
  {
   "cell_type": "code",
   "execution_count": 30,
   "metadata": {},
   "outputs": [
    {
     "data": {
      "text/plain": [
       "15"
      ]
     },
     "execution_count": 30,
     "metadata": {},
     "output_type": "execute_result"
    }
   ],
   "source": [
    "estoque[\"Suco\"][0]"
   ]
  },
  {
   "cell_type": "markdown",
   "metadata": {},
   "source": [
    "Lembra dos índices dos elementos da lista? O índice zero me retorna a quantidade de produtos em estoque, já o índice um me retorna o preço "
   ]
  },
  {
   "cell_type": "code",
   "execution_count": 31,
   "metadata": {},
   "outputs": [
    {
     "data": {
      "text/plain": [
       "8.5"
      ]
     },
     "execution_count": 31,
     "metadata": {},
     "output_type": "execute_result"
    }
   ],
   "source": [
    "estoque[\"Suco\"][1]"
   ]
  },
  {
   "cell_type": "code",
   "execution_count": 32,
   "metadata": {},
   "outputs": [
    {
     "name": "stdout",
     "output_type": "stream",
     "text": [
      "refrigerante\n",
      "Óleo\n",
      "Açúcar\n",
      "Chocolate\n",
      "Ração de cachorro\n",
      "Manteiga\n",
      "Leite\n",
      "Pão integral\n",
      "Suco\n",
      "Frango congelado\n"
     ]
    }
   ],
   "source": [
    "for x in estoque:\n",
    "    print(x)"
   ]
  },
  {
   "cell_type": "markdown",
   "metadata": {},
   "source": [
    "O \"for\" me retornou apenas as chaves"
   ]
  },
  {
   "cell_type": "code",
   "execution_count": 33,
   "metadata": {},
   "outputs": [
    {
     "name": "stdout",
     "output_type": "stream",
     "text": [
      "[100, 8]\n",
      "[50, 6]\n",
      "[80, 4]\n",
      "[30, 9.99]\n",
      "[70, 35]\n",
      "[30, 12]\n",
      "[100, 2.49]\n",
      "[10, 12]\n",
      "[15, 8.5]\n",
      "[60, 20.99]\n"
     ]
    }
   ],
   "source": [
    "for x in estoque.values():\n",
    "    print(x)"
   ]
  },
  {
   "cell_type": "markdown",
   "metadata": {},
   "source": [
    "O método .values me devolveu apenas os valores. "
   ]
  },
  {
   "cell_type": "code",
   "execution_count": 34,
   "metadata": {},
   "outputs": [
    {
     "name": "stdout",
     "output_type": "stream",
     "text": [
      "('refrigerante', [100, 8])\n",
      "('Óleo', [50, 6])\n",
      "('Açúcar', [80, 4])\n",
      "('Chocolate', [30, 9.99])\n",
      "('Ração de cachorro', [70, 35])\n",
      "('Manteiga', [30, 12])\n",
      "('Leite', [100, 2.49])\n",
      "('Pão integral', [10, 12])\n",
      "('Suco', [15, 8.5])\n",
      "('Frango congelado', [60, 20.99])\n"
     ]
    }
   ],
   "source": [
    "for x in estoque.items():\n",
    "    print(x)"
   ]
  },
  {
   "cell_type": "markdown",
   "metadata": {},
   "source": [
    "Me retornou uma lista de tuplas com a chave e os valores"
   ]
  },
  {
   "cell_type": "code",
   "execution_count": 51,
   "metadata": {},
   "outputs": [],
   "source": [
    "padaria = {\"Leite Shefa\": 3.49, \"Leite Parmalat\": 2.99, \"Leite Dalia\": 2.59, \"Leite Piracanjuba\": 3.19,\n",
    "          \"Café Pilão\": 10.99, \"Café Três Corações\": 13.99, \"Café do Ponto\": 16.99}"
   ]
  },
  {
   "cell_type": "markdown",
   "metadata": {},
   "source": [
    "Pergunto na padaria quais marcas de leite estão disponíveis e seus preços"
   ]
  },
  {
   "cell_type": "code",
   "execution_count": 65,
   "metadata": {},
   "outputs": [
    {
     "data": {
      "text/plain": [
       "dict_items([('Leite Shefa', 3.49), ('Leite Parmalat', 2.99), ('Leite Dalia', 2.59), ('Leite Piracanjuba', 3.19), ('Café Pilão', 10.99), ('Café Três Corações', 13.99), ('Café do Ponto', 16.99)])"
      ]
     },
     "execution_count": 65,
     "metadata": {},
     "output_type": "execute_result"
    }
   ],
   "source": [
    "padaria.items()"
   ]
  },
  {
   "cell_type": "code",
   "execution_count": 64,
   "metadata": {},
   "outputs": [
    {
     "name": "stdout",
     "output_type": "stream",
     "text": [
      "Leite Shefa R$ 3.49\n",
      "Leite Parmalat R$ 2.99\n",
      "Leite Dalia R$ 2.59\n",
      "Leite Piracanjuba R$ 3.19\n"
     ]
    }
   ],
   "source": [
    "for tipo, preco in padaria.items():\n",
    "    if \"Leite\" in tipo:\n",
    "    \n",
    "    \n",
    "        print(tipo,\"R$\", preco)"
   ]
  },
  {
   "cell_type": "markdown",
   "metadata": {},
   "source": [
    "Criamos duas variáveis para percorrer qa chave e o valor (por isso usamos o médoto items). Se \"Leite\" está na variável \"tipo\" o programa imprime"
   ]
  }
 ],
 "metadata": {
  "kernelspec": {
   "display_name": "Python 3",
   "language": "python",
   "name": "python3"
  },
  "language_info": {
   "codemirror_mode": {
    "name": "ipython",
    "version": 3
   },
   "file_extension": ".py",
   "mimetype": "text/x-python",
   "name": "python",
   "nbconvert_exporter": "python",
   "pygments_lexer": "ipython3",
   "version": "3.7.0"
  }
 },
 "nbformat": 4,
 "nbformat_minor": 2
}
